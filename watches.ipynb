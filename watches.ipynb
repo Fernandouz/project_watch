{
 "cells": [
  {
   "cell_type": "code",
   "execution_count": 34,
   "id": "initial_id",
   "metadata": {
    "collapsed": true,
    "ExecuteTime": {
     "end_time": "2024-01-03T10:23:38.254463Z",
     "start_time": "2024-01-03T10:23:38.246936Z"
    }
   },
   "outputs": [],
   "source": [
    "import pandas as pd"
   ]
  },
  {
   "cell_type": "code",
   "execution_count": 22,
   "outputs": [
    {
     "name": "stderr",
     "output_type": "stream",
     "text": [
      "/var/folders/5l/z6rnf8l15k39szbmw31329140000gn/T/ipykernel_17019/3132222041.py:1: DtypeWarning: Columns (13) have mixed types. Specify dtype option on import or set low_memory=False.\n",
      "  data = pd.read_csv(\"Watches.csv\", sep=',', index_col=0)\n"
     ]
    }
   ],
   "source": [
    "data = pd.read_csv(\"Watches.csv\", sep=',', index_col=0)"
   ],
   "metadata": {
    "collapsed": false,
    "ExecuteTime": {
     "end_time": "2024-01-03T10:06:28.386824Z",
     "start_time": "2024-01-03T10:06:27.932539Z"
    }
   },
   "id": "a5b48271adaf10fc"
  },
  {
   "cell_type": "code",
   "execution_count": 23,
   "outputs": [
    {
     "data": {
      "text/plain": "                                                   name     price  \\\n0     Audemars Piguet Royal Oak Offshore Chronograph...   $43,500   \n1     Audemars Piguet Royal Oak Selfwinding\\n39mm Bl...   $71,500   \n2     Audemars Piguet Royal Oak Chronograph\\nBlue Di...   $79,191   \n3     Audemars Piguet Royal Oak Chronograph\\nSelfwin...  $108,000   \n4     Audemars Piguet Royal Oak Offshore Chronograph...   $27,500   \n...                                                 ...       ...   \n6438  Zenith Defy El Primero\\n21 TITANIUM 95.9000.90...    $9,790   \n6439  Zenith Chronomaster Sport\\n41mm White 03.3100....    $8,450   \n6440   Zenith El Primero\\n50th Anniversary A386 Limited   $16,500   \n6441  Zenith Chronomaster Sport\\nWhite Dial Chronogr...    $9,000   \n6442  Zenith El Primero Chronomaster\\n03.2040.400/69...    $6,833   \n\n                brand                           model                    ref  \\\n0     Audemars Piguet  Royal Oak Offshore Chronograph   26237ST.OO.1000ST.01   \n1     Audemars Piguet           Royal Oak Selfwinding   15300ST.OO.1220ST.02   \n2     Audemars Piguet           Royal Oak Chronograph                26331ST   \n3     Audemars Piguet           Royal Oak Chronograph   26715ST.OO.1356ST.01   \n4     Audemars Piguet  Royal Oak Offshore Chronograph   26170ST.OO.1000ST.01   \n...               ...                             ...                    ...   \n6438           Zenith                 Defy El Primero  95.9000.9004/78.M9000   \n6439           Zenith              Chronomaster Sport  03.3100.3600/69.M3100   \n6440           Zenith                      El Primero    30.A386.400/69.C807   \n6441           Zenith              Chronomaster Sport  03.3100.3600/69.M3100   \n6442           Zenith         El Primero Chronomaster                    NaN   \n\n           mvmt  casem   bracem                   yop       cond  \\\n0           NaN    NaN      NaN                  2019     Unworn   \n1           NaN    NaN      NaN                  2012  Very good   \n2     Automatic  Steel    Steel               Unknown     Unworn   \n3     Automatic  Steel    Steel  2022 (Approximation)        New   \n4     Automatic  Steel    Steel               Unknown  Very good   \n...         ...    ...      ...                   ...        ...   \n6438        NaN    NaN      NaN                  2022  Very good   \n6439        NaN    NaN      NaN  2021 (Approximation)  Very good   \n6440        NaN    NaN      NaN                  2019  Very good   \n6441        NaN    NaN      NaN                  2021     Unworn   \n6442  Automatic  Steel  Leather                  2019  Very good   \n\n                     sex        size condition  \n0     Men's watch/Unisex       42 mm       NaN  \n1     Men's watch/Unisex       39 mm       NaN  \n2                    NaN       41 mm       NaN  \n3     Men's watch/Unisex       38 mm       NaN  \n4     Men's watch/Unisex  42 x 54 mm       NaN  \n...                  ...         ...       ...  \n6438  Men's watch/Unisex       44 mm       NaN  \n6439  Men's watch/Unisex       41 mm       NaN  \n6440  Men's watch/Unisex       38 mm       NaN  \n6441  Men's watch/Unisex       41 mm       NaN  \n6442                 NaN       42 mm       NaN  \n\n[284491 rows x 13 columns]",
      "text/html": "<div>\n<style scoped>\n    .dataframe tbody tr th:only-of-type {\n        vertical-align: middle;\n    }\n\n    .dataframe tbody tr th {\n        vertical-align: top;\n    }\n\n    .dataframe thead th {\n        text-align: right;\n    }\n</style>\n<table border=\"1\" class=\"dataframe\">\n  <thead>\n    <tr style=\"text-align: right;\">\n      <th></th>\n      <th>name</th>\n      <th>price</th>\n      <th>brand</th>\n      <th>model</th>\n      <th>ref</th>\n      <th>mvmt</th>\n      <th>casem</th>\n      <th>bracem</th>\n      <th>yop</th>\n      <th>cond</th>\n      <th>sex</th>\n      <th>size</th>\n      <th>condition</th>\n    </tr>\n  </thead>\n  <tbody>\n    <tr>\n      <th>0</th>\n      <td>Audemars Piguet Royal Oak Offshore Chronograph...</td>\n      <td>$43,500</td>\n      <td>Audemars Piguet</td>\n      <td>Royal Oak Offshore Chronograph</td>\n      <td>26237ST.OO.1000ST.01</td>\n      <td>NaN</td>\n      <td>NaN</td>\n      <td>NaN</td>\n      <td>2019</td>\n      <td>Unworn</td>\n      <td>Men's watch/Unisex</td>\n      <td>42 mm</td>\n      <td>NaN</td>\n    </tr>\n    <tr>\n      <th>1</th>\n      <td>Audemars Piguet Royal Oak Selfwinding\\n39mm Bl...</td>\n      <td>$71,500</td>\n      <td>Audemars Piguet</td>\n      <td>Royal Oak Selfwinding</td>\n      <td>15300ST.OO.1220ST.02</td>\n      <td>NaN</td>\n      <td>NaN</td>\n      <td>NaN</td>\n      <td>2012</td>\n      <td>Very good</td>\n      <td>Men's watch/Unisex</td>\n      <td>39 mm</td>\n      <td>NaN</td>\n    </tr>\n    <tr>\n      <th>2</th>\n      <td>Audemars Piguet Royal Oak Chronograph\\nBlue Di...</td>\n      <td>$79,191</td>\n      <td>Audemars Piguet</td>\n      <td>Royal Oak Chronograph</td>\n      <td>26331ST</td>\n      <td>Automatic</td>\n      <td>Steel</td>\n      <td>Steel</td>\n      <td>Unknown</td>\n      <td>Unworn</td>\n      <td>NaN</td>\n      <td>41 mm</td>\n      <td>NaN</td>\n    </tr>\n    <tr>\n      <th>3</th>\n      <td>Audemars Piguet Royal Oak Chronograph\\nSelfwin...</td>\n      <td>$108,000</td>\n      <td>Audemars Piguet</td>\n      <td>Royal Oak Chronograph</td>\n      <td>26715ST.OO.1356ST.01</td>\n      <td>Automatic</td>\n      <td>Steel</td>\n      <td>Steel</td>\n      <td>2022 (Approximation)</td>\n      <td>New</td>\n      <td>Men's watch/Unisex</td>\n      <td>38 mm</td>\n      <td>NaN</td>\n    </tr>\n    <tr>\n      <th>4</th>\n      <td>Audemars Piguet Royal Oak Offshore Chronograph...</td>\n      <td>$27,500</td>\n      <td>Audemars Piguet</td>\n      <td>Royal Oak Offshore Chronograph</td>\n      <td>26170ST.OO.1000ST.01</td>\n      <td>Automatic</td>\n      <td>Steel</td>\n      <td>Steel</td>\n      <td>Unknown</td>\n      <td>Very good</td>\n      <td>Men's watch/Unisex</td>\n      <td>42 x 54 mm</td>\n      <td>NaN</td>\n    </tr>\n    <tr>\n      <th>...</th>\n      <td>...</td>\n      <td>...</td>\n      <td>...</td>\n      <td>...</td>\n      <td>...</td>\n      <td>...</td>\n      <td>...</td>\n      <td>...</td>\n      <td>...</td>\n      <td>...</td>\n      <td>...</td>\n      <td>...</td>\n      <td>...</td>\n    </tr>\n    <tr>\n      <th>6438</th>\n      <td>Zenith Defy El Primero\\n21 TITANIUM 95.9000.90...</td>\n      <td>$9,790</td>\n      <td>Zenith</td>\n      <td>Defy El Primero</td>\n      <td>95.9000.9004/78.M9000</td>\n      <td>NaN</td>\n      <td>NaN</td>\n      <td>NaN</td>\n      <td>2022</td>\n      <td>Very good</td>\n      <td>Men's watch/Unisex</td>\n      <td>44 mm</td>\n      <td>NaN</td>\n    </tr>\n    <tr>\n      <th>6439</th>\n      <td>Zenith Chronomaster Sport\\n41mm White 03.3100....</td>\n      <td>$8,450</td>\n      <td>Zenith</td>\n      <td>Chronomaster Sport</td>\n      <td>03.3100.3600/69.M3100</td>\n      <td>NaN</td>\n      <td>NaN</td>\n      <td>NaN</td>\n      <td>2021 (Approximation)</td>\n      <td>Very good</td>\n      <td>Men's watch/Unisex</td>\n      <td>41 mm</td>\n      <td>NaN</td>\n    </tr>\n    <tr>\n      <th>6440</th>\n      <td>Zenith El Primero\\n50th Anniversary A386 Limited</td>\n      <td>$16,500</td>\n      <td>Zenith</td>\n      <td>El Primero</td>\n      <td>30.A386.400/69.C807</td>\n      <td>NaN</td>\n      <td>NaN</td>\n      <td>NaN</td>\n      <td>2019</td>\n      <td>Very good</td>\n      <td>Men's watch/Unisex</td>\n      <td>38 mm</td>\n      <td>NaN</td>\n    </tr>\n    <tr>\n      <th>6441</th>\n      <td>Zenith Chronomaster Sport\\nWhite Dial Chronogr...</td>\n      <td>$9,000</td>\n      <td>Zenith</td>\n      <td>Chronomaster Sport</td>\n      <td>03.3100.3600/69.M3100</td>\n      <td>NaN</td>\n      <td>NaN</td>\n      <td>NaN</td>\n      <td>2021</td>\n      <td>Unworn</td>\n      <td>Men's watch/Unisex</td>\n      <td>41 mm</td>\n      <td>NaN</td>\n    </tr>\n    <tr>\n      <th>6442</th>\n      <td>Zenith El Primero Chronomaster\\n03.2040.400/69...</td>\n      <td>$6,833</td>\n      <td>Zenith</td>\n      <td>El Primero Chronomaster</td>\n      <td>NaN</td>\n      <td>Automatic</td>\n      <td>Steel</td>\n      <td>Leather</td>\n      <td>2019</td>\n      <td>Very good</td>\n      <td>NaN</td>\n      <td>42 mm</td>\n      <td>NaN</td>\n    </tr>\n  </tbody>\n</table>\n<p>284491 rows × 13 columns</p>\n</div>"
     },
     "execution_count": 23,
     "metadata": {},
     "output_type": "execute_result"
    }
   ],
   "source": [
    "data"
   ],
   "metadata": {
    "collapsed": false,
    "ExecuteTime": {
     "end_time": "2024-01-03T10:06:34.999337Z",
     "start_time": "2024-01-03T10:06:34.989106Z"
    }
   },
   "id": "c02a965f8679012f"
  },
  {
   "cell_type": "code",
   "execution_count": 33,
   "outputs": [
    {
     "data": {
      "text/plain": "name         0.255140\nprice        0.001427\nbrand        0.000460\nmodel        0.107090\nref          0.151681\nmvmt         0.691358\ncasem        0.577421\nbracem       0.614768\nyop          0.000471\ncond         0.267098\nsex          0.336759\nsize         0.082945\ncondition    0.748431\ndtype: float64"
     },
     "execution_count": 33,
     "metadata": {},
     "output_type": "execute_result"
    }
   ],
   "source": [
    "data.isna().sum() / data.shape[0]"
   ],
   "metadata": {
    "collapsed": false,
    "ExecuteTime": {
     "end_time": "2024-01-03T10:09:27.964912Z",
     "start_time": "2024-01-03T10:09:27.960717Z"
    }
   },
   "id": "90eabe9f695a6915"
  },
  {
   "cell_type": "code",
   "execution_count": 49,
   "outputs": [],
   "source": [
    "data2 = pd.read_csv(\"luxury_watch.csv\", sep=\",\")"
   ],
   "metadata": {
    "collapsed": false,
    "ExecuteTime": {
     "end_time": "2024-01-03T11:01:25.695767Z",
     "start_time": "2024-01-03T11:01:25.689025Z"
    }
   },
   "id": "9fc55ac7c9de23e3"
  },
  {
   "cell_type": "code",
   "execution_count": 50,
   "outputs": [
    {
     "data": {
      "text/plain": "                   Brand              Model    Case_Material   Strap_Material  \\\n0                  Rolex         Submariner  Stainless Steel  Stainless Steel   \n1                  Omega          Seamaster         Titanium           Rubber   \n2              Tag Heuer            Carrera  Stainless Steel          Leather   \n3              Breitling          Navitimer  Stainless Steel  Stainless Steel   \n4                Cartier          Tank Solo  Stainless Steel          Leather   \n..                   ...                ...              ...              ...   \n502              Breguet          Classique    18k Rose Gold          Leather   \n503            Blancpain      Fifty Fathoms  Stainless Steel           Fabric   \n504             Longines  Master Collection  Stainless Steel          Leather   \n505  Vacheron Constantin           Overseas  Stainless Steel  Stainless Steel   \n506  Frederique Constant           Classics  Stainless Steel          Leather   \n\n    Movement_Type Water_Resistance  Case_Diameter  Case_Thickness  Band_Width  \\\n0       Automatic       300 meters           40.0           13.00        20.0   \n1       Automatic       600 meters           43.5           14.47        21.0   \n2       Automatic       100 meters           41.0           13.00        20.0   \n3       Automatic        30 meters           43.0           14.25        22.0   \n4          Quartz        30 meters           31.0            6.05        20.0   \n..            ...              ...            ...             ...         ...   \n502     Automatic        30 meters           38.5            8.25        20.0   \n503     Automatic       300 meters           45.0           15.50        23.0   \n504     Automatic        30 meters           38.5            9.70        20.0   \n505     Automatic       150 meters           41.5           11.00        22.0   \n506     Automatic        50 meters           40.0           10.60        20.0   \n\n    Dial_Color Crystal_Material Complications Power_Reserve   Price  \n0        Black         Sapphire          Date      48 hours   9,500  \n1         Blue         Sapphire          Date      60 hours   5,800  \n2        White         Sapphire   Chronograph      42 hours   4,200  \n3        Black         Sapphire   Chronograph      70 hours   7,900  \n4       Silver         Sapphire           NaN           NaN   2,800  \n..         ...              ...           ...           ...     ...  \n502      White         Sapphire          Date      38 hours  21,500  \n503      Black         Sapphire          Date     120 hours  13,500  \n504       Blue         Sapphire          Date      64 hours   1,800  \n505       Blue         Sapphire          Date      40 hours  19,000  \n506     Silver         Sapphire          Date      38 hours   1,200  \n\n[507 rows x 14 columns]",
      "text/html": "<div>\n<style scoped>\n    .dataframe tbody tr th:only-of-type {\n        vertical-align: middle;\n    }\n\n    .dataframe tbody tr th {\n        vertical-align: top;\n    }\n\n    .dataframe thead th {\n        text-align: right;\n    }\n</style>\n<table border=\"1\" class=\"dataframe\">\n  <thead>\n    <tr style=\"text-align: right;\">\n      <th></th>\n      <th>Brand</th>\n      <th>Model</th>\n      <th>Case_Material</th>\n      <th>Strap_Material</th>\n      <th>Movement_Type</th>\n      <th>Water_Resistance</th>\n      <th>Case_Diameter</th>\n      <th>Case_Thickness</th>\n      <th>Band_Width</th>\n      <th>Dial_Color</th>\n      <th>Crystal_Material</th>\n      <th>Complications</th>\n      <th>Power_Reserve</th>\n      <th>Price</th>\n    </tr>\n  </thead>\n  <tbody>\n    <tr>\n      <th>0</th>\n      <td>Rolex</td>\n      <td>Submariner</td>\n      <td>Stainless Steel</td>\n      <td>Stainless Steel</td>\n      <td>Automatic</td>\n      <td>300 meters</td>\n      <td>40.0</td>\n      <td>13.00</td>\n      <td>20.0</td>\n      <td>Black</td>\n      <td>Sapphire</td>\n      <td>Date</td>\n      <td>48 hours</td>\n      <td>9,500</td>\n    </tr>\n    <tr>\n      <th>1</th>\n      <td>Omega</td>\n      <td>Seamaster</td>\n      <td>Titanium</td>\n      <td>Rubber</td>\n      <td>Automatic</td>\n      <td>600 meters</td>\n      <td>43.5</td>\n      <td>14.47</td>\n      <td>21.0</td>\n      <td>Blue</td>\n      <td>Sapphire</td>\n      <td>Date</td>\n      <td>60 hours</td>\n      <td>5,800</td>\n    </tr>\n    <tr>\n      <th>2</th>\n      <td>Tag Heuer</td>\n      <td>Carrera</td>\n      <td>Stainless Steel</td>\n      <td>Leather</td>\n      <td>Automatic</td>\n      <td>100 meters</td>\n      <td>41.0</td>\n      <td>13.00</td>\n      <td>20.0</td>\n      <td>White</td>\n      <td>Sapphire</td>\n      <td>Chronograph</td>\n      <td>42 hours</td>\n      <td>4,200</td>\n    </tr>\n    <tr>\n      <th>3</th>\n      <td>Breitling</td>\n      <td>Navitimer</td>\n      <td>Stainless Steel</td>\n      <td>Stainless Steel</td>\n      <td>Automatic</td>\n      <td>30 meters</td>\n      <td>43.0</td>\n      <td>14.25</td>\n      <td>22.0</td>\n      <td>Black</td>\n      <td>Sapphire</td>\n      <td>Chronograph</td>\n      <td>70 hours</td>\n      <td>7,900</td>\n    </tr>\n    <tr>\n      <th>4</th>\n      <td>Cartier</td>\n      <td>Tank Solo</td>\n      <td>Stainless Steel</td>\n      <td>Leather</td>\n      <td>Quartz</td>\n      <td>30 meters</td>\n      <td>31.0</td>\n      <td>6.05</td>\n      <td>20.0</td>\n      <td>Silver</td>\n      <td>Sapphire</td>\n      <td>NaN</td>\n      <td>NaN</td>\n      <td>2,800</td>\n    </tr>\n    <tr>\n      <th>...</th>\n      <td>...</td>\n      <td>...</td>\n      <td>...</td>\n      <td>...</td>\n      <td>...</td>\n      <td>...</td>\n      <td>...</td>\n      <td>...</td>\n      <td>...</td>\n      <td>...</td>\n      <td>...</td>\n      <td>...</td>\n      <td>...</td>\n      <td>...</td>\n    </tr>\n    <tr>\n      <th>502</th>\n      <td>Breguet</td>\n      <td>Classique</td>\n      <td>18k Rose Gold</td>\n      <td>Leather</td>\n      <td>Automatic</td>\n      <td>30 meters</td>\n      <td>38.5</td>\n      <td>8.25</td>\n      <td>20.0</td>\n      <td>White</td>\n      <td>Sapphire</td>\n      <td>Date</td>\n      <td>38 hours</td>\n      <td>21,500</td>\n    </tr>\n    <tr>\n      <th>503</th>\n      <td>Blancpain</td>\n      <td>Fifty Fathoms</td>\n      <td>Stainless Steel</td>\n      <td>Fabric</td>\n      <td>Automatic</td>\n      <td>300 meters</td>\n      <td>45.0</td>\n      <td>15.50</td>\n      <td>23.0</td>\n      <td>Black</td>\n      <td>Sapphire</td>\n      <td>Date</td>\n      <td>120 hours</td>\n      <td>13,500</td>\n    </tr>\n    <tr>\n      <th>504</th>\n      <td>Longines</td>\n      <td>Master Collection</td>\n      <td>Stainless Steel</td>\n      <td>Leather</td>\n      <td>Automatic</td>\n      <td>30 meters</td>\n      <td>38.5</td>\n      <td>9.70</td>\n      <td>20.0</td>\n      <td>Blue</td>\n      <td>Sapphire</td>\n      <td>Date</td>\n      <td>64 hours</td>\n      <td>1,800</td>\n    </tr>\n    <tr>\n      <th>505</th>\n      <td>Vacheron Constantin</td>\n      <td>Overseas</td>\n      <td>Stainless Steel</td>\n      <td>Stainless Steel</td>\n      <td>Automatic</td>\n      <td>150 meters</td>\n      <td>41.5</td>\n      <td>11.00</td>\n      <td>22.0</td>\n      <td>Blue</td>\n      <td>Sapphire</td>\n      <td>Date</td>\n      <td>40 hours</td>\n      <td>19,000</td>\n    </tr>\n    <tr>\n      <th>506</th>\n      <td>Frederique Constant</td>\n      <td>Classics</td>\n      <td>Stainless Steel</td>\n      <td>Leather</td>\n      <td>Automatic</td>\n      <td>50 meters</td>\n      <td>40.0</td>\n      <td>10.60</td>\n      <td>20.0</td>\n      <td>Silver</td>\n      <td>Sapphire</td>\n      <td>Date</td>\n      <td>38 hours</td>\n      <td>1,200</td>\n    </tr>\n  </tbody>\n</table>\n<p>507 rows × 14 columns</p>\n</div>"
     },
     "execution_count": 50,
     "metadata": {},
     "output_type": "execute_result"
    }
   ],
   "source": [
    "data2"
   ],
   "metadata": {
    "collapsed": false,
    "ExecuteTime": {
     "end_time": "2024-01-03T11:01:27.573674Z",
     "start_time": "2024-01-03T11:01:27.563759Z"
    }
   },
   "id": "752920fa8d08329e"
  },
  {
   "cell_type": "code",
   "execution_count": null,
   "outputs": [],
   "source": [],
   "metadata": {
    "collapsed": false
   },
   "id": "96ea4568ecd1f6fb"
  },
  {
   "cell_type": "code",
   "execution_count": 43,
   "outputs": [],
   "source": [
    "cond_left = ['brand','model']\n",
    "cond_right = ['Brand','Model']\n",
    "result = pd.merge(left=data, right=data2, how='left',left_on=cond_left, right_on=cond_right)"
   ],
   "metadata": {
    "collapsed": false,
    "ExecuteTime": {
     "end_time": "2024-01-03T10:52:18.653231Z",
     "start_time": "2024-01-03T10:52:18.237236Z"
    }
   },
   "id": "8974bcb5adc50c06"
  },
  {
   "cell_type": "code",
   "execution_count": 51,
   "outputs": [
    {
     "data": {
      "text/plain": "                                                     name     price  \\\n0       Audemars Piguet Royal Oak Offshore Chronograph...   $43,500   \n1       Audemars Piguet Royal Oak Selfwinding\\n39mm Bl...   $71,500   \n2       Audemars Piguet Royal Oak Chronograph\\nBlue Di...   $79,191   \n3       Audemars Piguet Royal Oak Chronograph\\nSelfwin...  $108,000   \n4       Audemars Piguet Royal Oak Offshore Chronograph...   $27,500   \n...                                                   ...       ...   \n650623   Zenith El Primero\\n50th Anniversary A386 Limited   $16,500   \n650624   Zenith El Primero\\n50th Anniversary A386 Limited   $16,500   \n650625   Zenith El Primero\\n50th Anniversary A386 Limited   $16,500   \n650626  Zenith Chronomaster Sport\\nWhite Dial Chronogr...    $9,000   \n650627  Zenith El Primero Chronomaster\\n03.2040.400/69...    $6,833   \n\n                  brand                           model  \\\n0       Audemars Piguet  Royal Oak Offshore Chronograph   \n1       Audemars Piguet           Royal Oak Selfwinding   \n2       Audemars Piguet           Royal Oak Chronograph   \n3       Audemars Piguet           Royal Oak Chronograph   \n4       Audemars Piguet  Royal Oak Offshore Chronograph   \n...                 ...                             ...   \n650623           Zenith                      El Primero   \n650624           Zenith                      El Primero   \n650625           Zenith                      El Primero   \n650626           Zenith              Chronomaster Sport   \n650627           Zenith         El Primero Chronomaster   \n\n                          ref       mvmt  casem   bracem  \\\n0        26237ST.OO.1000ST.01        NaN    NaN      NaN   \n1        15300ST.OO.1220ST.02        NaN    NaN      NaN   \n2                     26331ST  Automatic  Steel    Steel   \n3        26715ST.OO.1356ST.01  Automatic  Steel    Steel   \n4        26170ST.OO.1000ST.01  Automatic  Steel    Steel   \n...                       ...        ...    ...      ...   \n650623    30.A386.400/69.C807        NaN    NaN      NaN   \n650624    30.A386.400/69.C807        NaN    NaN      NaN   \n650625    30.A386.400/69.C807        NaN    NaN      NaN   \n650626  03.3100.3600/69.M3100        NaN    NaN      NaN   \n650627                    NaN  Automatic  Steel  Leather   \n\n                         yop       cond  ... Movement Type Water Resistance  \\\n0                       2019     Unworn  ...           NaN              NaN   \n1                       2012  Very good  ...           NaN              NaN   \n2                    Unknown     Unworn  ...           NaN              NaN   \n3       2022 (Approximation)        New  ...           NaN              NaN   \n4                    Unknown  Very good  ...           NaN              NaN   \n...                      ...        ...  ...           ...              ...   \n650623                  2019  Very good  ...     Automatic       100 meters   \n650624                  2019  Very good  ...     Automatic       100 meters   \n650625                  2019  Very good  ...     Automatic       100 meters   \n650626                  2021     Unworn  ...           NaN              NaN   \n650627                  2019  Very good  ...           NaN              NaN   \n\n       Case Diameter (mm) Case Thickness (mm) Band Width (mm) Dial Color  \\\n0                     NaN                 NaN             NaN        NaN   \n1                     NaN                 NaN             NaN        NaN   \n2                     NaN                 NaN             NaN        NaN   \n3                     NaN                 NaN             NaN        NaN   \n4                     NaN                 NaN             NaN        NaN   \n...                   ...                 ...             ...        ...   \n650623               38.0               12.50            20.0     Silver   \n650624               42.0               12.75            22.0     Silver   \n650625               38.0               12.45            20.0     Silver   \n650626                NaN                 NaN             NaN        NaN   \n650627                NaN                 NaN             NaN        NaN   \n\n       Crystal Material Complications Power Reserve  Price (USD)  \n0                   NaN           NaN           NaN          NaN  \n1                   NaN           NaN           NaN          NaN  \n2                   NaN           NaN           NaN          NaN  \n3                   NaN           NaN           NaN          NaN  \n4                   NaN           NaN           NaN          NaN  \n...                 ...           ...           ...          ...  \n650623         Sapphire   Chronograph      50 hours        7,000  \n650624         Sapphire   Chronograph      50 hours        7,500  \n650625         Sapphire   Chronograph      50 hours        6,200  \n650626              NaN           NaN           NaN          NaN  \n650627              NaN           NaN           NaN          NaN  \n\n[650628 rows x 27 columns]",
      "text/html": "<div>\n<style scoped>\n    .dataframe tbody tr th:only-of-type {\n        vertical-align: middle;\n    }\n\n    .dataframe tbody tr th {\n        vertical-align: top;\n    }\n\n    .dataframe thead th {\n        text-align: right;\n    }\n</style>\n<table border=\"1\" class=\"dataframe\">\n  <thead>\n    <tr style=\"text-align: right;\">\n      <th></th>\n      <th>name</th>\n      <th>price</th>\n      <th>brand</th>\n      <th>model</th>\n      <th>ref</th>\n      <th>mvmt</th>\n      <th>casem</th>\n      <th>bracem</th>\n      <th>yop</th>\n      <th>cond</th>\n      <th>...</th>\n      <th>Movement Type</th>\n      <th>Water Resistance</th>\n      <th>Case Diameter (mm)</th>\n      <th>Case Thickness (mm)</th>\n      <th>Band Width (mm)</th>\n      <th>Dial Color</th>\n      <th>Crystal Material</th>\n      <th>Complications</th>\n      <th>Power Reserve</th>\n      <th>Price (USD)</th>\n    </tr>\n  </thead>\n  <tbody>\n    <tr>\n      <th>0</th>\n      <td>Audemars Piguet Royal Oak Offshore Chronograph...</td>\n      <td>$43,500</td>\n      <td>Audemars Piguet</td>\n      <td>Royal Oak Offshore Chronograph</td>\n      <td>26237ST.OO.1000ST.01</td>\n      <td>NaN</td>\n      <td>NaN</td>\n      <td>NaN</td>\n      <td>2019</td>\n      <td>Unworn</td>\n      <td>...</td>\n      <td>NaN</td>\n      <td>NaN</td>\n      <td>NaN</td>\n      <td>NaN</td>\n      <td>NaN</td>\n      <td>NaN</td>\n      <td>NaN</td>\n      <td>NaN</td>\n      <td>NaN</td>\n      <td>NaN</td>\n    </tr>\n    <tr>\n      <th>1</th>\n      <td>Audemars Piguet Royal Oak Selfwinding\\n39mm Bl...</td>\n      <td>$71,500</td>\n      <td>Audemars Piguet</td>\n      <td>Royal Oak Selfwinding</td>\n      <td>15300ST.OO.1220ST.02</td>\n      <td>NaN</td>\n      <td>NaN</td>\n      <td>NaN</td>\n      <td>2012</td>\n      <td>Very good</td>\n      <td>...</td>\n      <td>NaN</td>\n      <td>NaN</td>\n      <td>NaN</td>\n      <td>NaN</td>\n      <td>NaN</td>\n      <td>NaN</td>\n      <td>NaN</td>\n      <td>NaN</td>\n      <td>NaN</td>\n      <td>NaN</td>\n    </tr>\n    <tr>\n      <th>2</th>\n      <td>Audemars Piguet Royal Oak Chronograph\\nBlue Di...</td>\n      <td>$79,191</td>\n      <td>Audemars Piguet</td>\n      <td>Royal Oak Chronograph</td>\n      <td>26331ST</td>\n      <td>Automatic</td>\n      <td>Steel</td>\n      <td>Steel</td>\n      <td>Unknown</td>\n      <td>Unworn</td>\n      <td>...</td>\n      <td>NaN</td>\n      <td>NaN</td>\n      <td>NaN</td>\n      <td>NaN</td>\n      <td>NaN</td>\n      <td>NaN</td>\n      <td>NaN</td>\n      <td>NaN</td>\n      <td>NaN</td>\n      <td>NaN</td>\n    </tr>\n    <tr>\n      <th>3</th>\n      <td>Audemars Piguet Royal Oak Chronograph\\nSelfwin...</td>\n      <td>$108,000</td>\n      <td>Audemars Piguet</td>\n      <td>Royal Oak Chronograph</td>\n      <td>26715ST.OO.1356ST.01</td>\n      <td>Automatic</td>\n      <td>Steel</td>\n      <td>Steel</td>\n      <td>2022 (Approximation)</td>\n      <td>New</td>\n      <td>...</td>\n      <td>NaN</td>\n      <td>NaN</td>\n      <td>NaN</td>\n      <td>NaN</td>\n      <td>NaN</td>\n      <td>NaN</td>\n      <td>NaN</td>\n      <td>NaN</td>\n      <td>NaN</td>\n      <td>NaN</td>\n    </tr>\n    <tr>\n      <th>4</th>\n      <td>Audemars Piguet Royal Oak Offshore Chronograph...</td>\n      <td>$27,500</td>\n      <td>Audemars Piguet</td>\n      <td>Royal Oak Offshore Chronograph</td>\n      <td>26170ST.OO.1000ST.01</td>\n      <td>Automatic</td>\n      <td>Steel</td>\n      <td>Steel</td>\n      <td>Unknown</td>\n      <td>Very good</td>\n      <td>...</td>\n      <td>NaN</td>\n      <td>NaN</td>\n      <td>NaN</td>\n      <td>NaN</td>\n      <td>NaN</td>\n      <td>NaN</td>\n      <td>NaN</td>\n      <td>NaN</td>\n      <td>NaN</td>\n      <td>NaN</td>\n    </tr>\n    <tr>\n      <th>...</th>\n      <td>...</td>\n      <td>...</td>\n      <td>...</td>\n      <td>...</td>\n      <td>...</td>\n      <td>...</td>\n      <td>...</td>\n      <td>...</td>\n      <td>...</td>\n      <td>...</td>\n      <td>...</td>\n      <td>...</td>\n      <td>...</td>\n      <td>...</td>\n      <td>...</td>\n      <td>...</td>\n      <td>...</td>\n      <td>...</td>\n      <td>...</td>\n      <td>...</td>\n      <td>...</td>\n    </tr>\n    <tr>\n      <th>650623</th>\n      <td>Zenith El Primero\\n50th Anniversary A386 Limited</td>\n      <td>$16,500</td>\n      <td>Zenith</td>\n      <td>El Primero</td>\n      <td>30.A386.400/69.C807</td>\n      <td>NaN</td>\n      <td>NaN</td>\n      <td>NaN</td>\n      <td>2019</td>\n      <td>Very good</td>\n      <td>...</td>\n      <td>Automatic</td>\n      <td>100 meters</td>\n      <td>38.0</td>\n      <td>12.50</td>\n      <td>20.0</td>\n      <td>Silver</td>\n      <td>Sapphire</td>\n      <td>Chronograph</td>\n      <td>50 hours</td>\n      <td>7,000</td>\n    </tr>\n    <tr>\n      <th>650624</th>\n      <td>Zenith El Primero\\n50th Anniversary A386 Limited</td>\n      <td>$16,500</td>\n      <td>Zenith</td>\n      <td>El Primero</td>\n      <td>30.A386.400/69.C807</td>\n      <td>NaN</td>\n      <td>NaN</td>\n      <td>NaN</td>\n      <td>2019</td>\n      <td>Very good</td>\n      <td>...</td>\n      <td>Automatic</td>\n      <td>100 meters</td>\n      <td>42.0</td>\n      <td>12.75</td>\n      <td>22.0</td>\n      <td>Silver</td>\n      <td>Sapphire</td>\n      <td>Chronograph</td>\n      <td>50 hours</td>\n      <td>7,500</td>\n    </tr>\n    <tr>\n      <th>650625</th>\n      <td>Zenith El Primero\\n50th Anniversary A386 Limited</td>\n      <td>$16,500</td>\n      <td>Zenith</td>\n      <td>El Primero</td>\n      <td>30.A386.400/69.C807</td>\n      <td>NaN</td>\n      <td>NaN</td>\n      <td>NaN</td>\n      <td>2019</td>\n      <td>Very good</td>\n      <td>...</td>\n      <td>Automatic</td>\n      <td>100 meters</td>\n      <td>38.0</td>\n      <td>12.45</td>\n      <td>20.0</td>\n      <td>Silver</td>\n      <td>Sapphire</td>\n      <td>Chronograph</td>\n      <td>50 hours</td>\n      <td>6,200</td>\n    </tr>\n    <tr>\n      <th>650626</th>\n      <td>Zenith Chronomaster Sport\\nWhite Dial Chronogr...</td>\n      <td>$9,000</td>\n      <td>Zenith</td>\n      <td>Chronomaster Sport</td>\n      <td>03.3100.3600/69.M3100</td>\n      <td>NaN</td>\n      <td>NaN</td>\n      <td>NaN</td>\n      <td>2021</td>\n      <td>Unworn</td>\n      <td>...</td>\n      <td>NaN</td>\n      <td>NaN</td>\n      <td>NaN</td>\n      <td>NaN</td>\n      <td>NaN</td>\n      <td>NaN</td>\n      <td>NaN</td>\n      <td>NaN</td>\n      <td>NaN</td>\n      <td>NaN</td>\n    </tr>\n    <tr>\n      <th>650627</th>\n      <td>Zenith El Primero Chronomaster\\n03.2040.400/69...</td>\n      <td>$6,833</td>\n      <td>Zenith</td>\n      <td>El Primero Chronomaster</td>\n      <td>NaN</td>\n      <td>Automatic</td>\n      <td>Steel</td>\n      <td>Leather</td>\n      <td>2019</td>\n      <td>Very good</td>\n      <td>...</td>\n      <td>NaN</td>\n      <td>NaN</td>\n      <td>NaN</td>\n      <td>NaN</td>\n      <td>NaN</td>\n      <td>NaN</td>\n      <td>NaN</td>\n      <td>NaN</td>\n      <td>NaN</td>\n      <td>NaN</td>\n    </tr>\n  </tbody>\n</table>\n<p>650628 rows × 27 columns</p>\n</div>"
     },
     "execution_count": 51,
     "metadata": {},
     "output_type": "execute_result"
    }
   ],
   "source": [
    "result"
   ],
   "metadata": {
    "collapsed": false,
    "ExecuteTime": {
     "end_time": "2024-01-03T11:02:18.279633Z",
     "start_time": "2024-01-03T11:02:17.800079Z"
    }
   },
   "id": "b94adf0104d22ca4"
  },
  {
   "cell_type": "code",
   "execution_count": 45,
   "outputs": [
    {
     "data": {
      "text/plain": "name                   0.201276\nprice                  0.001001\nbrand                  0.000201\nmodel                  0.046826\nref                    0.138678\nmvmt                   0.652342\ncasem                  0.562257\nbracem                 0.606164\nyop                    0.000206\ncond                   0.212137\nsex                    0.294834\nsize                   0.080688\ncondition              0.801582\nBrand                  0.352842\nModel                  0.352842\nCase Material          0.352842\nStrap Material         0.352842\nMovement Type          0.352842\nWater Resistance       0.352842\nCase Diameter (mm)     0.352842\nCase Thickness (mm)    0.352842\nBand Width (mm)        0.352842\nDial Color             0.352842\nCrystal Material       0.352842\nComplications          0.422198\nPower Reserve          0.353669\nPrice (USD)            0.352842\ndtype: float64"
     },
     "execution_count": 45,
     "metadata": {},
     "output_type": "execute_result"
    }
   ],
   "source": [
    "result.isna().sum() / result.shape[0]"
   ],
   "metadata": {
    "collapsed": false,
    "ExecuteTime": {
     "end_time": "2024-01-03T10:54:07.493472Z",
     "start_time": "2024-01-03T10:54:07.345602Z"
    }
   },
   "id": "337156bbc7aefaf7"
  },
  {
   "cell_type": "code",
   "execution_count": null,
   "outputs": [],
   "source": [],
   "metadata": {
    "collapsed": false
   },
   "id": "35490705e2084259"
  }
 ],
 "metadata": {
  "kernelspec": {
   "display_name": "Python 3",
   "language": "python",
   "name": "python3"
  },
  "language_info": {
   "codemirror_mode": {
    "name": "ipython",
    "version": 2
   },
   "file_extension": ".py",
   "mimetype": "text/x-python",
   "name": "python",
   "nbconvert_exporter": "python",
   "pygments_lexer": "ipython2",
   "version": "2.7.6"
  }
 },
 "nbformat": 4,
 "nbformat_minor": 5
}
